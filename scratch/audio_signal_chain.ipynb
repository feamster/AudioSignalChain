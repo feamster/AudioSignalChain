{
 "cells": [
  {
   "cell_type": "code",
   "id": "initial_id",
   "metadata": {
    "collapsed": true,
    "ExecuteTime": {
     "end_time": "2025-03-06T05:34:05.870963Z",
     "start_time": "2025-03-06T05:34:05.864052Z"
    }
   },
   "source": [
    "def test_microphone():\n",
    "    try:\n",
    "        # Test microphone access with minimal duration\n",
    "        duration = 0.1  # Very short duration test\n",
    "        sample_rate = 44100\n",
    "        recording = sd.rec(int(duration * sample_rate), samplerate=sample_rate, channels=1)\n",
    "        sd.wait()\n",
    "        print(\"✅ Microphone access successful!\")\n",
    "        return True\n",
    "    except Exception as e:\n",
    "        print(\"❌ Microphone access error!\")\n",
    "        print(\"\\nTroubleshooting steps:\")\n",
    "        if sys.platform == 'darwin':  # macOS\n",
    "            print(\"1. Go to System Settings > Privacy & Security > Microphone\")\n",
    "            print(\"2. Enable microphone access for PyCharm\")\n",
    "            print(\"3. Restart PyCharm and try again\")\n",
    "        elif sys.platform.startswith('win'):  # Windows\n",
    "            print(\"1. Go to Settings > Privacy > Microphone\")\n",
    "            print(\"2. Turn on 'Allow apps to access your microphone'\")\n",
    "            print(\"3. Restart your Python environment (e.g., PyCharm, Anaconda)\")\n",
    "        elif sys.platform.startswith('linux'):  # Linux\n",
    "            print(\"1. Ensure you have the necessary permissions to access audio devices\")\n",
    "            print(\"2. Check that your user is part of the 'audio' group\")\n",
    "            print(\"3. Restart your terminal or IDE and try again\")\n",
    "        else:\n",
    "            print(\"1. Ensure your microphone is properly connected and has permissions\")\n",
    "        print(f\"\\nTechnical error details: {str(e)}\")\n",
    "        return False"
   ],
   "outputs": [],
   "execution_count": 3
  },
  {
   "metadata": {
    "ExecuteTime": {
     "end_time": "2025-03-06T05:34:08.193675Z",
     "start_time": "2025-03-06T05:34:07.997428Z"
    }
   },
   "cell_type": "code",
   "source": [
    "import sounddevice as sd\n",
    "print(\"Available audio devices:\")\n",
    "print(sd.query_devices())"
   ],
   "id": "613bd1c2524a1ecf",
   "outputs": [
    {
     "name": "stdout",
     "output_type": "stream",
     "text": [
      "Available audio devices:\n",
      "   0 LG HDR DQHD, Core Audio (0 in, 2 out)\n",
      "   1 Scarlett 18i8 USB, Core Audio (20 in, 8 out)\n",
      "   2 Jabra SPEAK 510 USB, Core Audio (0 in, 2 out)\n",
      "   3 Jabra SPEAK 510 USB, Core Audio (1 in, 0 out)\n",
      "   4 Logitech BRIO, Core Audio (2 in, 0 out)\n",
      "   5 BlackHole 16ch, Core Audio (16 in, 16 out)\n",
      "   6 BlackHole 2ch, Core Audio (2 in, 2 out)\n",
      "   7 External Headphones, Core Audio (0 in, 2 out)\n",
      "   8 MacBook Pro Microphone, Core Audio (1 in, 0 out)\n",
      "   9 MacBook Pro Speakers, Core Audio (0 in, 2 out)\n",
      "  10 BoomAudio, Core Audio (6 in, 6 out)\n",
      "  11 Microsoft Teams Audio, Core Audio (1 in, 1 out)\n",
      "  12 ZoomAudioDevice, Core Audio (2 in, 2 out)\n",
      "> 13 Blackhole/Scarlett Aggregate Device, Core Audio (22 in, 10 out)\n",
      "< 14 Blackhole/Scarlett Out, Core Audio (0 in, 2 out)\n"
     ]
    }
   ],
   "execution_count": 4
  },
  {
   "metadata": {
    "ExecuteTime": {
     "end_time": "2025-03-06T05:34:10.561930Z",
     "start_time": "2025-03-06T05:34:10.559214Z"
    }
   },
   "cell_type": "code",
   "source": [
    "def apply_gain(audio, gain_db):\n",
    "    \"\"\"Apply gain to audio signal\"\"\"\n",
    "    return audio * (10 ** (gain_db / 20))\n",
    "\n",
    "def apply_filter(audio, cutoff_freq):\n",
    "    \"\"\"Apply a simple lowpass filter\"\"\"\n",
    "    from scipy import signal\n",
    "    b, a = signal.butter(4, cutoff_freq / (SAMPLE_RATE/2))\n",
    "    return signal.filtfilt(b, a, audio)\n",
    "\n",
    "def process_audio(audio_input, gain_db=0, cutoff_freq=20000):\n",
    "    \"\"\"Main audio processing chain\"\"\"\n",
    "    if audio_input is None:\n",
    "        return None\n",
    "\n",
    "    # Apply gain\n",
    "    audio_with_gain = apply_gain(audio_input, gain_db)\n",
    "\n",
    "    # Apply filter\n",
    "    processed_audio = apply_filter(audio_with_gain, cutoff_freq)\n",
    "\n",
    "    return processed_audio\n",
    "\n",
    "#"
   ],
   "id": "5b07c0d4f992427a",
   "outputs": [],
   "execution_count": 5
  },
  {
   "metadata": {
    "ExecuteTime": {
     "end_time": "2025-03-06T05:35:12.936774Z",
     "start_time": "2025-03-06T05:35:11.050282Z"
    }
   },
   "cell_type": "code",
   "source": [
    "import gradio as gr\n",
    "\n",
    "\n",
    "def audio_interface():\n",
    "    with gr.Blocks() as app:\n",
    "        gr.Markdown(\"# Audio Signal Chain\")\n",
    "\n",
    "        with gr.Row():\n",
    "            audio_input = gr.Audio(label=\"Input Audio\")\n",
    "            audio_output = gr.Audio(label=\"Processed Audio\")\n",
    "\n",
    "        with gr.Row():\n",
    "            gain_slider = gr.Slider(\n",
    "                minimum=-20,\n",
    "                maximum=20,\n",
    "                value=0,\n",
    "                label=\"Gain (dB)\"\n",
    "            )\n",
    "            cutoff_slider = gr.Slider(\n",
    "                minimum=20,\n",
    "                maximum=20000,\n",
    "                value=20000,\n",
    "                label=\"Low-Pass Filter Cutoff (Hz)\"\n",
    "            )\n",
    "\n",
    "        audio_input.change(\n",
    "            fn=process_audio,\n",
    "            inputs=[audio_input, gain_slider, cutoff_slider],\n",
    "            outputs=[audio_output]\n",
    "        )\n",
    "\n",
    "    return app\n",
    "\n",
    "\n",
    "interface = audio_interface()\n",
    "\n",
    "def audio_interface():\n",
    "    with gr.Blocks() as app:\n",
    "        gr.Markdown(\"# Audio Signal Chain\")\n",
    "\n",
    "        with gr.Row():\n",
    "            audio_input = gr.Audio(\n",
    "                sources=[\"microphone\"],\n",
    "                type=\"numpy\",\n",
    "                interactive=True,\n",
    "                streaming=True,\n",
    "                label=\"Audio Input (Focusrite Scarlett)\"\n",
    "            )\n",
    "            audio_output = gr.Audio(\n",
    "                label=\"Processed Output\",\n",
    "                type=\"numpy\",\n",
    "                autoplay=True\n",
    "            )\n",
    "\n",
    "        with gr.Row():\n",
    "            gain_slider = gr.Slider(\n",
    "                minimum=-20,\n",
    "                maximum=20,\n",
    "                value=0,\n",
    "                step=0.1,\n",
    "                label=\"Gain (dB)\"\n",
    "            )\n",
    "            cutoff_slider = gr.Slider(\n",
    "                minimum=20,\n",
    "                maximum=20000,\n",
    "                value=20000,\n",
    "                step=10,\n",
    "                label=\"Lowpass Filter Cutoff (Hz)\"\n",
    "            )\n",
    "\n",
    "        audio_input.change(\n",
    "            fn=process_audio,\n",
    "            inputs=[audio_input, gain_slider, cutoff_slider],\n",
    "            outputs=[audio_output]\n",
    "        )\n",
    "\n",
    "    return app\n",
    "\n",
    "interface = audio_interface()\n",
    "\n",
    "#"
   ],
   "id": "b5e8a9d510e869f1",
   "outputs": [
    {
     "name": "stderr",
     "output_type": "stream",
     "text": [
      "/Users/feamster/PycharmProjects/AudioSignalChain/.venv/lib/python3.12/site-packages/tqdm/auto.py:21: TqdmWarning: IProgress not found. Please update jupyter and ipywidgets. See https://ipywidgets.readthedocs.io/en/stable/user_install.html\n",
      "  from .autonotebook import tqdm as notebook_tqdm\n"
     ]
    }
   ],
   "execution_count": 8
  },
  {
   "metadata": {},
   "cell_type": "code",
   "outputs": [],
   "execution_count": null,
   "source": "",
   "id": "398750a1178b059d"
  },
  {
   "metadata": {
    "ExecuteTime": {
     "end_time": "2025-03-06T05:35:17.634624Z",
     "start_time": "2025-03-06T05:35:16.381912Z"
    }
   },
   "cell_type": "code",
   "source": "interface.launch(share=True)",
   "id": "345062e7f148b7a6",
   "outputs": [
    {
     "name": "stdout",
     "output_type": "stream",
     "text": [
      "* Running on local URL:  http://127.0.0.1:7860\n",
      "* Running on public URL: https://abb4c333ca4a03bc27.gradio.live\n",
      "\n",
      "This share link expires in 72 hours. For free permanent hosting and GPU upgrades, run `gradio deploy` from the terminal in the working directory to deploy to Hugging Face Spaces (https://huggingface.co/spaces)\n"
     ]
    },
    {
     "data": {
      "text/plain": [
       "<IPython.core.display.HTML object>"
      ],
      "text/html": [
       "<div><iframe src=\"https://abb4c333ca4a03bc27.gradio.live\" width=\"100%\" height=\"500\" allow=\"autoplay; camera; microphone; clipboard-read; clipboard-write;\" frameborder=\"0\" allowfullscreen></iframe></div>"
      ]
     },
     "metadata": {},
     "output_type": "display_data"
    },
    {
     "data": {
      "text/plain": []
     },
     "execution_count": 9,
     "metadata": {},
     "output_type": "execute_result"
    }
   ],
   "execution_count": 9
  },
  {
   "metadata": {},
   "cell_type": "code",
   "outputs": [],
   "execution_count": null,
   "source": "",
   "id": "abe68e35a1cfaf33"
  }
 ],
 "metadata": {
  "kernelspec": {
   "display_name": "Python 3",
   "language": "python",
   "name": "python3"
  },
  "language_info": {
   "codemirror_mode": {
    "name": "ipython",
    "version": 2
   },
   "file_extension": ".py",
   "mimetype": "text/x-python",
   "name": "python",
   "nbconvert_exporter": "python",
   "pygments_lexer": "ipython2",
   "version": "2.7.6"
  }
 },
 "nbformat": 4,
 "nbformat_minor": 5
}
