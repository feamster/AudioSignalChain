{
 "cells": [
  {
   "metadata": {},
   "cell_type": "markdown",
   "source": [
    "# Chord Player Interface\n",
    "\n",
    "This Jupyter notebook implements a simple web interface using Gradio that allows users to select and play musical chords. The interface provides options to choose the chord type (Major or Minor) and the root note, then plays the selected chord using the SimpleChordPlayer class."
   ],
   "id": "28955a66b56f35be"
  },
  {
   "metadata": {
    "ExecuteTime": {
     "end_time": "2025-03-06T05:57:44.146190Z",
     "start_time": "2025-03-06T05:57:44.139479Z"
    }
   },
   "cell_type": "code",
   "source": "import gradio as gr",
   "id": "ef5db6f63bfdc1bc",
   "outputs": [],
   "execution_count": 2
  },
  {
   "metadata": {
    "ExecuteTime": {
     "end_time": "2025-03-06T05:57:45.962976Z",
     "start_time": "2025-03-06T05:57:45.575991Z"
    }
   },
   "cell_type": "code",
   "source": [
    "import gradio as gr\n",
    "import numpy as np\n",
    "import sounddevice as sd\n",
    "\n",
    "# Define note frequencies (A4 = 440Hz as reference)\n",
    "NOTE_FREQUENCIES = {\n",
    "    'C4': 261.63,\n",
    "    'D4': 293.66,\n",
    "    'E4': 329.63,\n",
    "    'F4': 349.23,\n",
    "    'G4': 392.00,\n",
    "    'A4': 440.00,\n",
    "    'B4': 493.88\n",
    "}\n",
    "\n",
    "\n",
    "def generate_sine_wave(frequency, duration, sample_rate=44100):\n",
    "    \"\"\"Generate a sine wave for the given frequency and duration.\"\"\"\n",
    "    t = np.linspace(0, duration, int(sample_rate * duration), False)\n",
    "    return np.sin(2 * np.pi * frequency * t)\n",
    "\n",
    "\n",
    "def play_chord(root_note, chord_type):\n",
    "    \"\"\"Play a chord based on root note and chord type.\"\"\"\n",
    "    # Define chord intervals (semitones from root)\n",
    "    intervals = [0, 4, 7] if chord_type == \"Major\" else [0, 3, 7]\n",
    "\n",
    "    # Get root frequency\n",
    "    root_freq = NOTE_FREQUENCIES[root_note]\n",
    "\n",
    "    # Calculate chord frequencies\n",
    "    frequencies = [root_freq * (2 ** (interval / 12)) for interval in intervals]\n",
    "\n",
    "    # Generate and mix sine waves\n",
    "    duration = 1.0\n",
    "    sample_rate = 44100\n",
    "    mixed_signal = np.zeros(int(sample_rate * duration))\n",
    "\n",
    "    for freq in frequencies:\n",
    "        mixed_signal += generate_sine_wave(freq, duration, sample_rate)\n",
    "\n",
    "    # Normalize and play\n",
    "    mixed_signal = mixed_signal / len(frequencies)\n",
    "    sd.play(mixed_signal, sample_rate)\n",
    "    sd.wait()\n",
    "\n",
    "    return f\"Playing {root_note} {chord_type} chord\"\n",
    "\n",
    "\n",
    "# Create Gradio interface\n",
    "interface = gr.Interface(\n",
    "    fn=play_chord,\n",
    "    inputs=[\n",
    "        gr.Dropdown(choices=list(NOTE_FREQUENCIES.keys()), label=\"Root Note\"),\n",
    "        gr.Dropdown(choices=[\"Major\", \"Minor\"], label=\"Chord Type\")\n",
    "    ],\n",
    "    outputs=gr.Text(label=\"Status\"),\n",
    "    title=\"Simple Chord Player\",\n",
    "    description=\"Select a root note and chord type, then click submit to play the chord.\"\n",
    ")\n",
    "\n",
    "if __name__ == \"__main__\":\n",
    "    interface.launch()"
   ],
   "id": "aa49bca8c44f321",
   "outputs": [
    {
     "name": "stdout",
     "output_type": "stream",
     "text": [
      "* Running on local URL:  http://127.0.0.1:7861\n",
      "\n",
      "To create a public link, set `share=True` in `launch()`.\n"
     ]
    },
    {
     "data": {
      "text/plain": [
       "<IPython.core.display.HTML object>"
      ],
      "text/html": [
       "<div><iframe src=\"http://127.0.0.1:7861/\" width=\"100%\" height=\"500\" allow=\"autoplay; camera; microphone; clipboard-read; clipboard-write;\" frameborder=\"0\" allowfullscreen></iframe></div>"
      ]
     },
     "metadata": {},
     "output_type": "display_data"
    }
   ],
   "execution_count": 3
  },
  {
   "metadata": {},
   "cell_type": "code",
   "outputs": [],
   "execution_count": null,
   "source": [
    "def play_chord(root_note, chord_type):\n",
    "    # Create chord player instance\n",
    "    chord_player = SimpleChordPlayer()\n",
    "\n",
    "    # Define chord intervals\n",
    "    if chord_type == \"Major\":\n",
    "        intervals = [0, 4, 7]  # Major chord intervals\n",
    "    else:\n",
    "        intervals = [0, 3, 7]  # Minor chord intervals\n",
    "\n",
    "    # Get root frequency\n",
    "    root_freq = NOTE_FREQUENCIES[root_note]\n",
    "\n",
    "    # Calculate chord frequencies\n",
    "    chord_freqs = [root_freq * (2 ** (interval/12)) for interval in intervals]\n",
    "\n",
    "    # Play the chord\n",
    "    chord_player.play_chord(chord_freqs, duration=1.0)\n",
    "\n",
    "    return f\"Playing {root_note} {chord_type} chord\"\n",
    "\n",
    "# Define available options\n",
    "notes = list(NOTE_FREQUENCIES.keys())\n",
    "chord_types = [\"Major\", \"Minor\"]"
   ],
   "id": "cacdf93ca6f4b448"
  },
  {
   "metadata": {},
   "cell_type": "code",
   "outputs": [],
   "execution_count": null,
   "source": [
    "# Create Gradio interface\n",
    "interface = gr.Interface(\n",
    "    fn=play_chord,\n",
    "    inputs=[\n",
    "        gr.Dropdown(choices=notes, label=\"Root Note\"),\n",
    "        gr.Dropdown(choices=chord_types, label=\"Chord Type\")\n",
    "    ],\n",
    "    outputs=gr.Text(label=\"Status\"),\n",
    "    title=\"Simple Chord Player\",\n",
    "    description=\"Select a root note and chord type, then click submit to play the chord.\"\n",
    ")\n",
    "\n",
    "# Launch the interface\n",
    "interface.launch()"
   ],
   "id": "c66cee1340106791"
  }
 ],
 "metadata": {
  "kernelspec": {
   "display_name": "Python 3",
   "language": "python",
   "name": "python3"
  },
  "language_info": {
   "codemirror_mode": {
    "name": "ipython",
    "version": 2
   },
   "file_extension": ".py",
   "mimetype": "text/x-python",
   "name": "python",
   "nbconvert_exporter": "python",
   "pygments_lexer": "ipython2",
   "version": "2.7.6"
  }
 },
 "nbformat": 4,
 "nbformat_minor": 5
}
